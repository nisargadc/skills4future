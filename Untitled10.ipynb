{
 "cells": [
  {
   "cell_type": "code",
   "execution_count": 4,
   "id": "24d53e5e-e8aa-412a-be35-232418b3ad00",
   "metadata": {},
   "outputs": [
    {
     "data": {
      "text/plain": [
       "0          wind\n",
       "1         solar\n",
       "2         hydro\n",
       "3    geothermal\n",
       "dtype: object"
      ]
     },
     "execution_count": 4,
     "metadata": {},
     "output_type": "execute_result"
    }
   ],
   "source": [
    "import pandas as pd\n",
    "renewable_resource=['wind', 'solar', 'hydro', 'geothermal']\n",
    "rs=pd.Series(renewable_resource)\n",
    "rs"
   ]
  },
  {
   "cell_type": "code",
   "execution_count": 9,
   "id": "5b905bad-a975-4eef-963a-1a3acd1fc33d",
   "metadata": {},
   "outputs": [
    {
     "data": {
      "text/html": [
       "<div>\n",
       "<style scoped>\n",
       "    .dataframe tbody tr th:only-of-type {\n",
       "        vertical-align: middle;\n",
       "    }\n",
       "\n",
       "    .dataframe tbody tr th {\n",
       "        vertical-align: top;\n",
       "    }\n",
       "\n",
       "    .dataframe thead th {\n",
       "        text-align: right;\n",
       "    }\n",
       "</style>\n",
       "<table border=\"1\" class=\"dataframe\">\n",
       "  <thead>\n",
       "    <tr style=\"text-align: right;\">\n",
       "      <th></th>\n",
       "      <th>Project</th>\n",
       "      <th>Technology</th>\n",
       "      <th>Capacity</th>\n",
       "      <th>Cost</th>\n",
       "      <th>Location</th>\n",
       "      <th>YOC</th>\n",
       "    </tr>\n",
       "  </thead>\n",
       "  <tbody>\n",
       "    <tr>\n",
       "      <th>0</th>\n",
       "      <td>solar farm</td>\n",
       "      <td>solar</td>\n",
       "      <td>150</td>\n",
       "      <td>200</td>\n",
       "      <td>california</td>\n",
       "      <td>2023</td>\n",
       "    </tr>\n",
       "    <tr>\n",
       "      <th>1</th>\n",
       "      <td>wind turbine</td>\n",
       "      <td>wind</td>\n",
       "      <td>300</td>\n",
       "      <td>400</td>\n",
       "      <td>texas</td>\n",
       "      <td>2022</td>\n",
       "    </tr>\n",
       "    <tr>\n",
       "      <th>2</th>\n",
       "      <td>hydro plant</td>\n",
       "      <td>hydro</td>\n",
       "      <td>200</td>\n",
       "      <td>350</td>\n",
       "      <td>washington</td>\n",
       "      <td>2021</td>\n",
       "    </tr>\n",
       "    <tr>\n",
       "      <th>3</th>\n",
       "      <td>geothermal station</td>\n",
       "      <td>geothermal</td>\n",
       "      <td>50</td>\n",
       "      <td>100</td>\n",
       "      <td>nevada</td>\n",
       "      <td>2023</td>\n",
       "    </tr>\n",
       "    <tr>\n",
       "      <th>4</th>\n",
       "      <td>tidal plant</td>\n",
       "      <td>tidal</td>\n",
       "      <td>170</td>\n",
       "      <td>250</td>\n",
       "      <td>LA</td>\n",
       "      <td>2022</td>\n",
       "    </tr>\n",
       "  </tbody>\n",
       "</table>\n",
       "</div>"
      ],
      "text/plain": [
       "              Project  Technology  Capacity  Cost    Location   YOC\n",
       "0          solar farm       solar       150   200  california  2023\n",
       "1        wind turbine        wind       300   400       texas  2022\n",
       "2         hydro plant       hydro       200   350  washington  2021\n",
       "3  geothermal station  geothermal        50   100      nevada  2023\n",
       "4         tidal plant       tidal       170   250          LA  2022"
      ]
     },
     "execution_count": 9,
     "metadata": {},
     "output_type": "execute_result"
    }
   ],
   "source": [
    "#dataframe\n",
    "data={\n",
    "    'Project':['solar farm', 'wind turbine', 'hydro plant', 'geothermal station','tidal plant'],\n",
    "    'Technology':['solar', 'wind', 'hydro', 'geothermal','tidal'],\n",
    "    'Capacity':[150,300,200,50,170],\n",
    "    'Cost':[200,400,350,100,250],\n",
    "    'Location':['california', 'texas', 'washington','nevada','LA'],\n",
    "    'YOC':[2023,2022,2021,2023,2022]\n",
    "}\n",
    "df=pd.DataFrame(data)\n",
    "df\n"
   ]
  },
  {
   "cell_type": "code",
   "execution_count": 10,
   "id": "c131d900-a515-462e-8449-3cc95cca4e49",
   "metadata": {},
   "outputs": [
    {
     "name": "stdout",
     "output_type": "stream",
     "text": [
      "high capacity project are 0    False\n",
      "1     True\n",
      "2     True\n",
      "3    False\n",
      "4     True\n",
      "Name: Capacity, dtype: bool\n"
     ]
    }
   ],
   "source": [
    "high_capacity=df['Capacity']>150\n",
    "print(f\"high capacity project are {high_capacity}\")"
   ]
  },
  {
   "cell_type": "code",
   "execution_count": 15,
   "id": "08e4fd51-1155-4982-90f5-430e21d91c6a",
   "metadata": {},
   "outputs": [
    {
     "data": {
      "text/plain": [
       "array([[1, 2],\n",
       "       [3, 4]])"
      ]
     },
     "execution_count": 15,
     "metadata": {},
     "output_type": "execute_result"
    }
   ],
   "source": [
    "import numpy as np\n",
    "a=np.array([[1,2],[3,4]])\n",
    "a\n"
   ]
  },
  {
   "cell_type": "code",
   "execution_count": 22,
   "id": "14fd7a52-ef3e-4ce1-8bba-552f67cf02f2",
   "metadata": {},
   "outputs": [
    {
     "data": {
      "text/plain": [
       "array([0.49398403, 0.11273774, 0.13744854, 0.33919044, 0.61693927])"
      ]
     },
     "execution_count": 22,
     "metadata": {},
     "output_type": "execute_result"
    }
   ],
   "source": [
    "#random\n",
    "import numpy as np\n",
    "n=np.random.rand(5)\n",
    "n\n"
   ]
  },
  {
   "cell_type": "code",
   "execution_count": 23,
   "id": "c0dbfc43-5d14-4d89-886f-804b88141517",
   "metadata": {},
   "outputs": [
    {
     "data": {
      "text/plain": [
       "array([6, 7, 1])"
      ]
     },
     "execution_count": 23,
     "metadata": {},
     "output_type": "execute_result"
    }
   ],
   "source": [
    "p=np.random.randint(0,10,3)\n",
    "p"
   ]
  },
  {
   "cell_type": "code",
   "execution_count": 24,
   "id": "f5eefabf-1902-46e3-a696-7c512a844b84",
   "metadata": {},
   "outputs": [
    {
     "data": {
      "text/plain": [
       "array([[7, 9, 0],\n",
       "       [3, 3, 6],\n",
       "       [8, 1, 1]])"
      ]
     },
     "execution_count": 24,
     "metadata": {},
     "output_type": "execute_result"
    }
   ],
   "source": [
    "p=np.random.randint(0,10,size=(3,3))\n",
    "p"
   ]
  },
  {
   "cell_type": "code",
   "execution_count": 29,
   "id": "23bc23ec-4090-4d29-87f9-87a1044df896",
   "metadata": {},
   "outputs": [
    {
     "data": {
      "text/plain": [
       "array([4, 3])"
      ]
     },
     "execution_count": 29,
     "metadata": {},
     "output_type": "execute_result"
    }
   ],
   "source": [
    "q=np.random.choice(10,2)\n",
    "q"
   ]
  },
  {
   "cell_type": "code",
   "execution_count": 32,
   "id": "3409b012-344f-4e15-8439-17ae4cf684a7",
   "metadata": {},
   "outputs": [
    {
     "data": {
      "text/plain": [
       "array([4, 3, 1, 2, 0])"
      ]
     },
     "execution_count": 32,
     "metadata": {},
     "output_type": "execute_result"
    }
   ],
   "source": [
    "q=np.random.choice(5,5,replace=False)\n",
    "q"
   ]
  },
  {
   "cell_type": "code",
   "execution_count": null,
   "id": "50b3b393-b59c-442f-bece-67a8da2956c6",
   "metadata": {},
   "outputs": [],
   "source": []
  }
 ],
 "metadata": {
  "kernelspec": {
   "display_name": "Python 3 (ipykernel)",
   "language": "python",
   "name": "python3"
  },
  "language_info": {
   "codemirror_mode": {
    "name": "ipython",
    "version": 3
   },
   "file_extension": ".py",
   "mimetype": "text/x-python",
   "name": "python",
   "nbconvert_exporter": "python",
   "pygments_lexer": "ipython3",
   "version": "3.12.7"
  }
 },
 "nbformat": 4,
 "nbformat_minor": 5
}
